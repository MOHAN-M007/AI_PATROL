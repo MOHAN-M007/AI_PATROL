{
 "cells": [
  {
   "cell_type": "code",
   "execution_count": 1,
   "id": "eccd2ee7-53a2-4dec-a7be-68e35a5f392d",
   "metadata": {
    "scrolled": true
   },
   "outputs": [
    {
     "name": "stderr",
     "output_type": "stream",
     "text": [
      "C:\\Users\\haris\\anaconda3\\Lib\\site-packages\\paramiko\\pkey.py:82: CryptographyDeprecationWarning: TripleDES has been moved to cryptography.hazmat.decrepit.ciphers.algorithms.TripleDES and will be removed from this module in 48.0.0.\n",
      "  \"cipher\": algorithms.TripleDES,\n",
      "C:\\Users\\haris\\anaconda3\\Lib\\site-packages\\paramiko\\transport.py:219: CryptographyDeprecationWarning: Blowfish has been moved to cryptography.hazmat.decrepit.ciphers.algorithms.Blowfish and will be removed from this module in 45.0.0.\n",
      "  \"class\": algorithms.Blowfish,\n",
      "C:\\Users\\haris\\anaconda3\\Lib\\site-packages\\paramiko\\transport.py:243: CryptographyDeprecationWarning: TripleDES has been moved to cryptography.hazmat.decrepit.ciphers.algorithms.TripleDES and will be removed from this module in 48.0.0.\n",
      "  \"class\": algorithms.TripleDES,\n"
     ]
    },
    {
     "name": "stdout",
     "output_type": "stream",
     "text": [
      "✅ Background removed for: qr for goole form.png\n",
      "\n",
      "🎉 Done! 1 images saved to 'images bg removed'\n"
     ]
    }
   ],
   "source": [
    "import os\n",
    "from rembg import remove\n",
    "from PIL import Image\n",
    "import io\n",
    "\n",
    "# Input and output folder paths\n",
    "input_folder = \"Contacts\"\n",
    "output_folder = \"images bg removed\"\n",
    "\n",
    "# Check if input folder exists\n",
    "if not os.path.exists(input_folder):\n",
    "    print(f\"❌ Input folder '{input_folder}' not found!\")\n",
    "else:\n",
    "    # Create output folder if it doesn't exist\n",
    "    os.makedirs(output_folder, exist_ok=True)\n",
    "\n",
    "    processed = 0\n",
    "\n",
    "    # Process each image in the input folder\n",
    "    for filename in os.listdir(input_folder):\n",
    "        if filename.lower().endswith(('.png', '.jpg', '.jpeg')):\n",
    "            input_path = os.path.join(input_folder, filename)\n",
    "            output_path = os.path.join(output_folder, os.path.splitext(filename)[0] + \".png\")  # Save as PNG\n",
    "\n",
    "            with open(input_path, \"rb\") as f:\n",
    "                input_bytes = f.read()\n",
    "\n",
    "            output_bytes = remove(input_bytes)\n",
    "\n",
    "            with open(output_path, \"wb\") as out:\n",
    "                out.write(output_bytes)\n",
    "\n",
    "            print(f\"✅ Background removed for: {filename}\")\n",
    "            processed += 1\n",
    "\n",
    "    if processed == 0:\n",
    "        print(\"⚠️ No image files found in the input folder.\")\n",
    "    else:\n",
    "        print(f\"\\n🎉 Done! {processed} images saved to '{output_folder}'\")\n"
   ]
  },
  {
   "cell_type": "code",
   "execution_count": null,
   "id": "f90501bc-e6a0-4bca-bdb7-117d3913fc65",
   "metadata": {},
   "outputs": [],
   "source": []
  }
 ],
 "metadata": {
  "kernelspec": {
   "display_name": "Python [conda env:base] *",
   "language": "python",
   "name": "conda-base-py"
  },
  "language_info": {
   "codemirror_mode": {
    "name": "ipython",
    "version": 3
   },
   "file_extension": ".py",
   "mimetype": "text/x-python",
   "name": "python",
   "nbconvert_exporter": "python",
   "pygments_lexer": "ipython3",
   "version": "3.12.7"
  }
 },
 "nbformat": 4,
 "nbformat_minor": 5
}
